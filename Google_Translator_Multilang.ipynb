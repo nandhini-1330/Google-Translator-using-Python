languages = {
    "English": "en",
    "Tamil": "ta",
    "Hindi": "hi",
    "French": "fr",
    "Spanish": "es",
    "German": "de",
    "Chinese": "zh-CN",
    "Arabic": "ar",
    "Russian": "ru",
    "Japanese": "ja",
    "Korean": "ko"
}
def translate_multiple_languages(text):
    print(f"\nOriginal Text: {text}\n")
    for lang_name, lang_code in languages.items():
        try:
            translated = GoogleTranslator(source='auto', target=lang_code).translate(text)
            print(f"{lang_name:>10}: {translated}")
        except Exception as e:
            print(f"{lang_name:>10}: [Error] {e}")
input_text = input("Enter the text you want to translate: ")
translate_multiple_languages(input_text)
