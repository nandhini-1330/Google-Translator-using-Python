{
 "cells": [
  {
   "cell_type": "code",
   "execution_count": 1,
   "id": "9c1fda18-ca3a-4bd5-9875-2aef98db93e4",
   "metadata": {},
   "outputs": [
    {
     "name": "stdout",
     "output_type": "stream",
     "text": [
      "Requirement already satisfied: googletrans==4.0.0-rc1 in c:\\users\\nandhinisivakumar\\anaconda3\\lib\\site-packages (4.0.0rc1)\n",
      "Requirement already satisfied: httpx==0.13.3 in c:\\users\\nandhinisivakumar\\anaconda3\\lib\\site-packages (from googletrans==4.0.0-rc1) (0.13.3)\n",
      "Requirement already satisfied: certifi in c:\\users\\nandhinisivakumar\\anaconda3\\lib\\site-packages (from httpx==0.13.3->googletrans==4.0.0-rc1) (2024.6.2)\n",
      "Requirement already satisfied: hstspreload in c:\\users\\nandhinisivakumar\\anaconda3\\lib\\site-packages (from httpx==0.13.3->googletrans==4.0.0-rc1) (2025.1.1)\n",
      "Requirement already satisfied: sniffio in c:\\users\\nandhinisivakumar\\anaconda3\\lib\\site-packages (from httpx==0.13.3->googletrans==4.0.0-rc1) (1.3.0)\n",
      "Requirement already satisfied: chardet==3.* in c:\\users\\nandhinisivakumar\\anaconda3\\lib\\site-packages (from httpx==0.13.3->googletrans==4.0.0-rc1) (3.0.4)\n",
      "Requirement already satisfied: idna==2.* in c:\\users\\nandhinisivakumar\\anaconda3\\lib\\site-packages (from httpx==0.13.3->googletrans==4.0.0-rc1) (2.10)\n",
      "Requirement already satisfied: rfc3986<2,>=1.3 in c:\\users\\nandhinisivakumar\\anaconda3\\lib\\site-packages (from httpx==0.13.3->googletrans==4.0.0-rc1) (1.5.0)\n",
      "Requirement already satisfied: httpcore==0.9.* in c:\\users\\nandhinisivakumar\\anaconda3\\lib\\site-packages (from httpx==0.13.3->googletrans==4.0.0-rc1) (0.9.1)\n",
      "Requirement already satisfied: h11<0.10,>=0.8 in c:\\users\\nandhinisivakumar\\anaconda3\\lib\\site-packages (from httpcore==0.9.*->httpx==0.13.3->googletrans==4.0.0-rc1) (0.9.0)\n",
      "Requirement already satisfied: h2==3.* in c:\\users\\nandhinisivakumar\\anaconda3\\lib\\site-packages (from httpcore==0.9.*->httpx==0.13.3->googletrans==4.0.0-rc1) (3.2.0)\n",
      "Requirement already satisfied: hyperframe<6,>=5.2.0 in c:\\users\\nandhinisivakumar\\anaconda3\\lib\\site-packages (from h2==3.*->httpcore==0.9.*->httpx==0.13.3->googletrans==4.0.0-rc1) (5.2.0)\n",
      "Requirement already satisfied: hpack<4,>=3.0 in c:\\users\\nandhinisivakumar\\anaconda3\\lib\\site-packages (from h2==3.*->httpcore==0.9.*->httpx==0.13.3->googletrans==4.0.0-rc1) (3.0.0)\n"
     ]
    }
   ],
   "source": [
    "!pip install googletrans==4.0.0-rc1"
   ]
  },
  {
   "cell_type": "code",
   "execution_count": 2,
   "id": "12a50401-013f-42c1-b148-5a1d8a2a2fb3",
   "metadata": {},
   "outputs": [
    {
     "name": "stdin",
     "output_type": "stream",
     "text": [
      "Enter the text you want to translate:  good morning\n"
     ]
    },
    {
     "name": "stdout",
     "output_type": "stream",
     "text": [
      "\n",
      "Original Text: good morning\n",
      "\n",
      "   English: good morning\n",
      "     Tamil: காலை வணக்கம்\n",
      "     Hindi: शुभ प्रभात\n",
      "    French: bonjour\n",
      "   Spanish: buen día\n",
      "    German: Guten Morgen\n",
      "   Chinese: 早上好\n",
      "    Arabic: صباح الخير\n",
      "   Russian: доброе утро\n",
      "  Japanese: おはよう\n",
      "    Korean: 좋은 아침이에요\n"
     ]
    }
   ],
   "source": [
    "from deep_translator import GoogleTranslator\n",
    "languages = {\n",
    "    \"English\": \"en\",\n",
    "    \"Tamil\": \"ta\",\n",
    "    \"Hindi\": \"hi\",\n",
    "    \"French\": \"fr\",\n",
    "    \"Spanish\": \"es\",\n",
    "    \"German\": \"de\",\n",
    "    \"Chinese\": \"zh-CN\",\n",
    "    \"Arabic\": \"ar\",\n",
    "    \"Russian\": \"ru\",\n",
    "    \"Japanese\": \"ja\",\n",
    "    \"Korean\": \"ko\"\n",
    "}\n",
    "def translate_multiple_languages(text):\n",
    "    print(f\"\\nOriginal Text: {text}\\n\")\n",
    "    for lang_name, lang_code in languages.items():\n",
    "        try:\n",
    "            translated = GoogleTranslator(source='auto', target=lang_code).translate(text)\n",
    "            print(f\"{lang_name:>10}: {translated}\")\n",
    "        except Exception as e:\n",
    "            print(f\"{lang_name:>10}: [Error] {e}\")\n",
    "input_text = input(\"Enter the text you want to translate: \")\n",
    "translate_multiple_languages(input_text)"
   ]
  },
  {
   "cell_type": "code",
   "execution_count": null,
   "id": "5c7b4460-824d-415b-a33b-06fdb73b1674",
   "metadata": {},
   "outputs": [],
   "source": []
  }
 ],
 "metadata": {
  "kernelspec": {
   "display_name": "Python 3 (ipykernel)",
   "language": "python",
   "name": "python3"
  },
  "language_info": {
   "codemirror_mode": {
    "name": "ipython",
    "version": 3
   },
   "file_extension": ".py",
   "mimetype": "text/x-python",
   "name": "python",
   "nbconvert_exporter": "python",
   "pygments_lexer": "ipython3",
   "version": "3.12.4"
  }
 },
 "nbformat": 4,
 "nbformat_minor": 5
}
